{
  "nbformat": 4,
  "nbformat_minor": 0,
  "metadata": {
    "colab": {
      "provenance": []
    },
    "kernelspec": {
      "name": "python3",
      "display_name": "Python 3"
    },
    "language_info": {
      "name": "python"
    }
  },
  "cells": [
    {
      "cell_type": "code",
      "source": [
        "# 구글드라이브 마운트\n",
        "\n",
        "from google.colab import drive\n",
        "drive.mount('/content/drive')"
      ],
      "metadata": {
        "colab": {
          "base_uri": "https://localhost:8080/"
        },
        "id": "ASE2LUKx55eN",
        "outputId": "c0ae689b-094f-460c-f100-edbcf645fbae"
      },
      "execution_count": 23,
      "outputs": [
        {
          "output_type": "stream",
          "name": "stdout",
          "text": [
            "Drive already mounted at /content/drive; to attempt to forcibly remount, call drive.mount(\"/content/drive\", force_remount=True).\n"
          ]
        }
      ]
    },
    {
      "cell_type": "code",
      "execution_count": 24,
      "metadata": {
        "colab": {
          "base_uri": "https://localhost:8080/"
        },
        "id": "dwO0Hqo23xTj",
        "outputId": "cd448d10-bc07-45de-cf97-4f7eaa120ed7"
      },
      "outputs": [
        {
          "output_type": "stream",
          "name": "stdout",
          "text": [
            "Reading package lists... Done\n",
            "Building dependency tree... Done\n",
            "Reading state information... Done\n",
            "git is already the newest version (1:2.34.1-1ubuntu1.11).\n",
            "0 upgraded, 0 newly installed, 0 to remove and 45 not upgraded.\n"
          ]
        }
      ],
      "source": [
        "# Git 설치\n",
        "!apt-get install git"
      ]
    },
    {
      "cell_type": "code",
      "source": [
        "# 사용자 설정 (한 번만 설정하면 됨)\n",
        "# !git config --global user.email \"you@example.com\"\n",
        "# !git config --global user.name \"Your Name\"\n",
        "\n",
        "!git config --global user.email \"[이메일주소]\"\n",
        "!git config --global user.name \"[깃허브 아이디]\""
      ],
      "metadata": {
        "id": "p2foebD431gw"
      },
      "execution_count": 25,
      "outputs": []
    },
    {
      "cell_type": "code",
      "source": [
        "# 로컬 저장소 생성\n",
        "# 이미 생성된 repository를 입력\n",
        "\n",
        "!git https://github.com/khchoi2023/Dashboard_Clutchswing.git"
      ],
      "metadata": {
        "colab": {
          "base_uri": "https://localhost:8080/"
        },
        "id": "L0-Y_rBT31kD",
        "outputId": "ba3bf581-a982-4690-8dc1-73d21797c60c"
      },
      "execution_count": 26,
      "outputs": [
        {
          "output_type": "stream",
          "name": "stdout",
          "text": [
            "git: 'https://github.com/khchoi2023/Dashboard_Clutchswing.git' is not a git command. See 'git --help'.\n"
          ]
        }
      ]
    },
    {
      "cell_type": "code",
      "source": [
        "# 개인 접근 토큰(Personal Access Token)을 사용하여 클론\n",
        "# https://blog.pocu.academy/ko/2022/01/06/how-to-generate-personal-access-token-for-github.html\n",
        "\n",
        "!git clone https://[Personal Access Token]@github.com/khchoi2023/Dashboard_Clutchswing.git\n",
        "%cd Dashboard_Clutchswing"
      ],
      "metadata": {
        "colab": {
          "base_uri": "https://localhost:8080/"
        },
        "id": "gBtsFqqN31mS",
        "outputId": "8cede15a-09d9-4a11-bad4-a4425f9c0915"
      },
      "execution_count": 27,
      "outputs": [
        {
          "output_type": "stream",
          "name": "stdout",
          "text": [
            "Cloning into 'Dashboard_Clutchswing'...\n",
            "remote: Enumerating objects: 27, done.\u001b[K\n",
            "remote: Counting objects: 100% (27/27), done.\u001b[K\n",
            "remote: Compressing objects: 100% (23/23), done.\u001b[K\n",
            "remote: Total 27 (delta 4), reused 20 (delta 2), pack-reused 0\u001b[K\n",
            "Receiving objects: 100% (27/27), 430.95 KiB | 7.18 MiB/s, done.\n",
            "Resolving deltas: 100% (4/4), done.\n",
            "/content/Dashboard_Clutchswing/Dashboard_Clutchswing/Dashboard_Clutchswing\n"
          ]
        }
      ]
    },
    {
      "cell_type": "code",
      "source": [
        "!ls"
      ],
      "metadata": {
        "colab": {
          "base_uri": "https://localhost:8080/"
        },
        "id": "PBGWBwoI5fOq",
        "outputId": "ddad024a-ee0f-40fb-e9b4-2b1d3a31af3b"
      },
      "execution_count": 28,
      "outputs": [
        {
          "output_type": "stream",
          "name": "stdout",
          "text": [
            "gold_backtest.png\t    gold_final_trade_return.png  gold_mlr_donut_annual.png   logo.png\n",
            "gold_close_vol.png\t    gold_latest_signal.png\t gold_mlr_donut_monthly.png  README.md\n",
            "gold_final_diff_return.png  gold_mgr_donut_annual.png\t gold_mlr_donut_weekly.png\n",
            "gold_final_hole_return.png  gold_mgr_donut_monthly.png\t index.html\n",
            "gold_final_return_bar.png   gold_mgr_donut_weekly.png\t last_date_gold.png\n"
          ]
        }
      ]
    },
    {
      "cell_type": "code",
      "source": [
        "# 파일 하나씩 복사\n",
        "# !cp /content/drive/MyDrive/clutchswing/[파일명.확장자] .  <-- 점(.) 누락하면 안됨\n",
        "# !cp /content/drive/MyDrive/clutchswing/[test.png] .\n",
        "\n",
        "# 폴더 내 모든 파일 복사\n",
        "!cp /content/drive/MyDrive/clutchswing/* ."
      ],
      "metadata": {
        "id": "RhnZtQgf31o7"
      },
      "execution_count": 29,
      "outputs": []
    },
    {
      "cell_type": "code",
      "source": [
        "# 파일 하나씩 추가, 커밋, 푸시\n",
        "# !git add logo.png\n",
        "# !git commit -m \"Add [파일명.확장자]\"\n",
        "# !git commit -m \"Add [test.png]\"\n",
        "# !git push origin main\n",
        "\n",
        "\n",
        "# 폴더내 모든 파일 추가, 커밋, 푸시\n",
        "!git add .\n",
        "!git commit -m \"Add all files from clutchswing\"\n",
        "!git push origin main"
      ],
      "metadata": {
        "colab": {
          "base_uri": "https://localhost:8080/"
        },
        "id": "fy-WrRcP31rf",
        "outputId": "1eb9e180-8cd7-45b3-b95f-8cba980b8ce1"
      },
      "execution_count": 30,
      "outputs": [
        {
          "output_type": "stream",
          "name": "stdout",
          "text": [
            "[main dfa13a4] Add all files from clutchswing\n",
            " 3 files changed, 15 insertions(+)\n",
            " rewrite gold_final_hole_return.png (98%)\n",
            " rewrite gold_final_trade_return.png (98%)\n",
            "Enumerating objects: 9, done.\n",
            "Counting objects: 100% (9/9), done.\n",
            "Delta compression using up to 2 threads\n",
            "Compressing objects: 100% (5/5), done.\n",
            "Writing objects: 100% (5/5), 16.88 KiB | 16.88 MiB/s, done.\n",
            "Total 5 (delta 2), reused 0 (delta 0), pack-reused 0\n",
            "remote: Resolving deltas: 100% (2/2), completed with 2 local objects.\u001b[K\n",
            "To https://github.com/khchoi2023/Dashboard_Clutchswing.git\n",
            "   d79cb68..dfa13a4  main -> main\n"
          ]
        }
      ]
    }
  ]
}